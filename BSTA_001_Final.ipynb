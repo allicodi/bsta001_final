{
  "nbformat": 4,
  "nbformat_minor": 0,
  "metadata": {
    "colab": {
      "name": "BSTA 001 Final",
      "provenance": [],
      "collapsed_sections": [],
      "include_colab_link": true
    },
    "kernelspec": {
      "name": "python3",
      "display_name": "Python 3"
    }
  },
  "cells": [
    {
      "cell_type": "markdown",
      "metadata": {
        "id": "view-in-github",
        "colab_type": "text"
      },
      "source": [
        "<a href=\"https://colab.research.google.com/github/allicodi/bsta001_final/blob/main/BSTA_001_Final.ipynb\" target=\"_parent\"><img src=\"https://colab.research.google.com/assets/colab-badge.svg\" alt=\"Open In Colab\"/></a>"
      ]
    },
    {
      "cell_type": "code",
      "metadata": {
        "id": "tJ6fv7dh3CFT",
        "colab": {
          "base_uri": "https://localhost:8080/"
        },
        "outputId": "2ff25bff-82bc-4069-f0ac-83e4679adcc8"
      },
      "source": [
        "from google.colab import drive\n",
        "drive.mount('/content/drive')\n",
        "\n",
        "import matplotlib.pyplot as plt\n",
        "import pandas as pd\n",
        "import numpy as np\n",
        "import scipy.stats\n",
        "import datetime\n",
        "import seaborn as sns"
      ],
      "execution_count": 1,
      "outputs": [
        {
          "output_type": "stream",
          "text": [
            "Mounted at /content/drive\n"
          ],
          "name": "stdout"
        }
      ]
    },
    {
      "cell_type": "code",
      "metadata": {
        "id": "NZow63pJ3J5C"
      },
      "source": [
        "caseData = pd.read_csv('https://covidtracking.com/data/download/all-states-history.csv')"
      ],
      "execution_count": 2,
      "outputs": []
    },
    {
      "cell_type": "code",
      "metadata": {
        "id": "eLq6MbYD34S7"
      },
      "source": [
        "policyData_raw = pd.read_csv('/content/drive/My Drive/BSTA001/covid_policy_data_11_3_2020.csv') #change per person\n",
        "# /content/drive/My Drive/BSTA001/covid_policy_data_11_3_2020.csv #for alli\n",
        "# /content/drive/My Drive/COVID-19_policy.csv # for nora\n",
        "policyData = policyData_raw[4:55] #the postcodes (state Abbrev) are not alphabetical"
      ],
      "execution_count": 3,
      "outputs": []
    },
    {
      "cell_type": "code",
      "metadata": {
        "id": "loHlx6Ga72Za",
        "colab": {
          "base_uri": "https://localhost:8080/",
          "height": 304
        },
        "outputId": "8598d275-f92b-4703-d350-a62373416c6c"
      },
      "source": [
        "policyData.head()"
      ],
      "execution_count": 4,
      "outputs": [
        {
          "output_type": "execute_result",
          "data": {
            "text/html": [
              "<div>\n",
              "<style scoped>\n",
              "    .dataframe tbody tr th:only-of-type {\n",
              "        vertical-align: middle;\n",
              "    }\n",
              "\n",
              "    .dataframe tbody tr th {\n",
              "        vertical-align: top;\n",
              "    }\n",
              "\n",
              "    .dataframe thead th {\n",
              "        text-align: right;\n",
              "    }\n",
              "</style>\n",
              "<table border=\"1\" class=\"dataframe\">\n",
              "  <thead>\n",
              "    <tr style=\"text-align: right;\">\n",
              "      <th></th>\n",
              "      <th>STATE</th>\n",
              "      <th>POSTCODE</th>\n",
              "      <th>FIPS</th>\n",
              "      <th>STEMERG</th>\n",
              "      <th>CLSCHOOL</th>\n",
              "      <th>CLDAYCR</th>\n",
              "      <th>OPNCLDCR</th>\n",
              "      <th>CLNURSHM</th>\n",
              "      <th>STAYHOME</th>\n",
              "      <th>STAYHOMENOGP</th>\n",
              "      <th>END_STHM</th>\n",
              "      <th>CLBSNS</th>\n",
              "      <th>END_BSNS</th>\n",
              "      <th>RELIGEX</th>\n",
              "      <th>FM_ALL</th>\n",
              "      <th>FMFINE</th>\n",
              "      <th>FMCITE</th>\n",
              "      <th>FMNOENF</th>\n",
              "      <th>FM_EMP</th>\n",
              "      <th>FM_END</th>\n",
              "      <th>FM_STP</th>\n",
              "      <th>ALCOPEN</th>\n",
              "      <th>ALCREST</th>\n",
              "      <th>ALCDELIV</th>\n",
              "      <th>GUNOPEN</th>\n",
              "      <th>CLREST</th>\n",
              "      <th>ENDREST</th>\n",
              "      <th>RSTOUTDR</th>\n",
              "      <th>CLGYM</th>\n",
              "      <th>ENDGYM</th>\n",
              "      <th>CLMOVIE</th>\n",
              "      <th>END_MOV</th>\n",
              "      <th>CLOSEBAR</th>\n",
              "      <th>END_BRS</th>\n",
              "      <th>END_HAIR</th>\n",
              "      <th>END_RELG</th>\n",
              "      <th>ENDRETL</th>\n",
              "      <th>BCLBAR2</th>\n",
              "      <th>CLBAR2</th>\n",
              "      <th>CLMV2</th>\n",
              "      <th>...</th>\n",
              "      <th>UICLDCR</th>\n",
              "      <th>UIEXTND</th>\n",
              "      <th>UIMAXAMT</th>\n",
              "      <th>UIMAXEXT</th>\n",
              "      <th>UIMAXDUR</th>\n",
              "      <th>UIMAXCAR</th>\n",
              "      <th>UIMINBP</th>\n",
              "      <th>UIQTRNEED</th>\n",
              "      <th>UIOUTHQBP</th>\n",
              "      <th>UIREQBPL2Q</th>\n",
              "      <th>UIBPEARN300</th>\n",
              "      <th>UITAXWA</th>\n",
              "      <th>UIMINTAXR</th>\n",
              "      <th>UIMAXTAXR</th>\n",
              "      <th>UIAVGBFTAUG</th>\n",
              "      <th>LMABRN</th>\n",
              "      <th>TLHlBUPR</th>\n",
              "      <th>EXTOPFL</th>\n",
              "      <th>HMDLVOP</th>\n",
              "      <th>TLHLCL24</th>\n",
              "      <th>EXCEMORP</th>\n",
              "      <th>WVDEAREQ</th>\n",
              "      <th>PDSKLV</th>\n",
              "      <th>MEDEXP</th>\n",
              "      <th>POPDEN18</th>\n",
              "      <th>POP18</th>\n",
              "      <th>SQML</th>\n",
              "      <th>HMLS19</th>\n",
              "      <th>UNEMP18</th>\n",
              "      <th>POV18</th>\n",
              "      <th>RISKCOV</th>\n",
              "      <th>DEATH18</th>\n",
              "      <th>MH19</th>\n",
              "      <th>VBMEXC</th>\n",
              "      <th>VBMSIG</th>\n",
              "      <th>VBMPERM</th>\n",
              "      <th>VBMAUTOBAL</th>\n",
              "      <th>VBMAUTOAP</th>\n",
              "      <th>VBMGENELEC</th>\n",
              "      <th>Unnamed: 162</th>\n",
              "    </tr>\n",
              "  </thead>\n",
              "  <tbody>\n",
              "    <tr>\n",
              "      <th>4</th>\n",
              "      <td>Alabama</td>\n",
              "      <td>AL</td>\n",
              "      <td>1</td>\n",
              "      <td>3/13/2020</td>\n",
              "      <td>3/20/2020</td>\n",
              "      <td>3/20/2020</td>\n",
              "      <td>5/23/2020</td>\n",
              "      <td>3/19/2020</td>\n",
              "      <td>4/4/2020</td>\n",
              "      <td>0</td>\n",
              "      <td>4/30/2020</td>\n",
              "      <td>3/28/2020</td>\n",
              "      <td>4/30/2020</td>\n",
              "      <td>0</td>\n",
              "      <td>7/16/2020</td>\n",
              "      <td>0</td>\n",
              "      <td>0</td>\n",
              "      <td>1</td>\n",
              "      <td>5/11/2020</td>\n",
              "      <td>0</td>\n",
              "      <td>0</td>\n",
              "      <td>1</td>\n",
              "      <td>3/24/2020</td>\n",
              "      <td>3/24/2020</td>\n",
              "      <td>1</td>\n",
              "      <td>3/19/2020</td>\n",
              "      <td>5/11/2020</td>\n",
              "      <td>0</td>\n",
              "      <td>3/28/2020</td>\n",
              "      <td>5/11/2020</td>\n",
              "      <td>3/28/2020</td>\n",
              "      <td>5/22/2020</td>\n",
              "      <td>3/19/2020</td>\n",
              "      <td>5/11/2020</td>\n",
              "      <td>5/11/2020</td>\n",
              "      <td>5/11/2020</td>\n",
              "      <td>4/30/2020</td>\n",
              "      <td>0</td>\n",
              "      <td>0</td>\n",
              "      <td>0</td>\n",
              "      <td>...</td>\n",
              "      <td>0</td>\n",
              "      <td>0</td>\n",
              "      <td>275</td>\n",
              "      <td>875</td>\n",
              "      <td>20</td>\n",
              "      <td>39</td>\n",
              "      <td>2340</td>\n",
              "      <td>2</td>\n",
              "      <td>780</td>\n",
              "      <td>0</td>\n",
              "      <td>Max Benefit &lt; $300</td>\n",
              "      <td>8000</td>\n",
              "      <td>0.65</td>\n",
              "      <td>6.8</td>\n",
              "      <td>$250.77</td>\n",
              "      <td>1</td>\n",
              "      <td>0</td>\n",
              "      <td>0</td>\n",
              "      <td>0</td>\n",
              "      <td>3/20/2020</td>\n",
              "      <td>0</td>\n",
              "      <td>0</td>\n",
              "      <td>0</td>\n",
              "      <td>0</td>\n",
              "      <td>93.24</td>\n",
              "      <td>4887871</td>\n",
              "      <td>52420</td>\n",
              "      <td>3,261</td>\n",
              "      <td>5.6</td>\n",
              "      <td>16.8</td>\n",
              "      <td>43.1</td>\n",
              "      <td>54,352</td>\n",
              "      <td>100.7</td>\n",
              "      <td>0</td>\n",
              "      <td>1</td>\n",
              "      <td>0</td>\n",
              "      <td>0</td>\n",
              "      <td>0</td>\n",
              "      <td>10/29/2020</td>\n",
              "      <td>NaN</td>\n",
              "    </tr>\n",
              "    <tr>\n",
              "      <th>5</th>\n",
              "      <td>Alaska</td>\n",
              "      <td>AK</td>\n",
              "      <td>2</td>\n",
              "      <td>3/11/2020</td>\n",
              "      <td>3/16/2020</td>\n",
              "      <td>0</td>\n",
              "      <td>0</td>\n",
              "      <td>0</td>\n",
              "      <td>3/28/2020</td>\n",
              "      <td>0</td>\n",
              "      <td>4/24/2020</td>\n",
              "      <td>3/24/2020</td>\n",
              "      <td>4/24/2020</td>\n",
              "      <td>0</td>\n",
              "      <td>4/24/2020</td>\n",
              "      <td>1</td>\n",
              "      <td>1</td>\n",
              "      <td>0</td>\n",
              "      <td>4/24/2020</td>\n",
              "      <td>5/22/2020</td>\n",
              "      <td>0</td>\n",
              "      <td>1</td>\n",
              "      <td>3/17/2020</td>\n",
              "      <td>3/17/2020</td>\n",
              "      <td>1</td>\n",
              "      <td>3/18/2020</td>\n",
              "      <td>4/24/2020</td>\n",
              "      <td>0</td>\n",
              "      <td>3/18/2020</td>\n",
              "      <td>5/8/2020</td>\n",
              "      <td>3/18/2020</td>\n",
              "      <td>5/8/2020</td>\n",
              "      <td>3/18/2020</td>\n",
              "      <td>5/8/2020</td>\n",
              "      <td>4/24/2020</td>\n",
              "      <td>5/8/2020</td>\n",
              "      <td>4/24/2020</td>\n",
              "      <td>0</td>\n",
              "      <td>0</td>\n",
              "      <td>0</td>\n",
              "      <td>...</td>\n",
              "      <td>1</td>\n",
              "      <td>0</td>\n",
              "      <td>370</td>\n",
              "      <td>970</td>\n",
              "      <td>26</td>\n",
              "      <td>39</td>\n",
              "      <td>2500</td>\n",
              "      <td>2</td>\n",
              "      <td>250</td>\n",
              "      <td>0</td>\n",
              "      <td>13636.36</td>\n",
              "      <td>41500</td>\n",
              "      <td>1</td>\n",
              "      <td>5.4</td>\n",
              "      <td>$443.23</td>\n",
              "      <td>1</td>\n",
              "      <td>0</td>\n",
              "      <td>0</td>\n",
              "      <td>0</td>\n",
              "      <td>0</td>\n",
              "      <td>0</td>\n",
              "      <td>0</td>\n",
              "      <td>0</td>\n",
              "      <td>1</td>\n",
              "      <td>1.11</td>\n",
              "      <td>737438</td>\n",
              "      <td>665384</td>\n",
              "      <td>1,907</td>\n",
              "      <td>6.8</td>\n",
              "      <td>10.9</td>\n",
              "      <td>32.8</td>\n",
              "      <td>4,453</td>\n",
              "      <td>429.9</td>\n",
              "      <td>0</td>\n",
              "      <td>1</td>\n",
              "      <td>0</td>\n",
              "      <td>0</td>\n",
              "      <td>2</td>\n",
              "      <td>10/24/2020</td>\n",
              "      <td>NaN</td>\n",
              "    </tr>\n",
              "    <tr>\n",
              "      <th>6</th>\n",
              "      <td>Arizona</td>\n",
              "      <td>AZ</td>\n",
              "      <td>4</td>\n",
              "      <td>3/11/2020</td>\n",
              "      <td>3/16/2020</td>\n",
              "      <td>0</td>\n",
              "      <td>0</td>\n",
              "      <td>0</td>\n",
              "      <td>3/31/2020</td>\n",
              "      <td>0</td>\n",
              "      <td>5/16/2020</td>\n",
              "      <td>3/31/2020</td>\n",
              "      <td>5/8/2020</td>\n",
              "      <td>1</td>\n",
              "      <td>0</td>\n",
              "      <td>0</td>\n",
              "      <td>0</td>\n",
              "      <td>0</td>\n",
              "      <td>5/8/2020</td>\n",
              "      <td>0</td>\n",
              "      <td>3/30/2020</td>\n",
              "      <td>1</td>\n",
              "      <td>3/19/2020</td>\n",
              "      <td>3/19/2020</td>\n",
              "      <td>1</td>\n",
              "      <td>3/21/2020</td>\n",
              "      <td>5/11/2020</td>\n",
              "      <td>0</td>\n",
              "      <td>3/21/2020</td>\n",
              "      <td>5/13/2020</td>\n",
              "      <td>3/21/2020</td>\n",
              "      <td>5/16/2020</td>\n",
              "      <td>3/21/2020</td>\n",
              "      <td>5/16/2020</td>\n",
              "      <td>5/8/2020</td>\n",
              "      <td>0</td>\n",
              "      <td>5/8/2020</td>\n",
              "      <td>6/29/2020</td>\n",
              "      <td>6/29/2020</td>\n",
              "      <td>6/29/2020</td>\n",
              "      <td>...</td>\n",
              "      <td>1</td>\n",
              "      <td>0</td>\n",
              "      <td>240</td>\n",
              "      <td>840</td>\n",
              "      <td>26</td>\n",
              "      <td>39</td>\n",
              "      <td>7020</td>\n",
              "      <td>2</td>\n",
              "      <td>2340</td>\n",
              "      <td>0</td>\n",
              "      <td>Max Benefit &lt; $300</td>\n",
              "      <td>7000</td>\n",
              "      <td>0.05</td>\n",
              "      <td>12.85</td>\n",
              "      <td>$237.99</td>\n",
              "      <td>0</td>\n",
              "      <td>0</td>\n",
              "      <td>0</td>\n",
              "      <td>0</td>\n",
              "      <td>0</td>\n",
              "      <td>3/11/2020</td>\n",
              "      <td>0</td>\n",
              "      <td>1</td>\n",
              "      <td>1</td>\n",
              "      <td>62.91</td>\n",
              "      <td>7171646</td>\n",
              "      <td>113990</td>\n",
              "      <td>10,007</td>\n",
              "      <td>5.4</td>\n",
              "      <td>14</td>\n",
              "      <td>39.1</td>\n",
              "      <td>59,282</td>\n",
              "      <td>132.9</td>\n",
              "      <td>0</td>\n",
              "      <td>0</td>\n",
              "      <td>0</td>\n",
              "      <td>0</td>\n",
              "      <td>0</td>\n",
              "      <td>10/23/2020</td>\n",
              "      <td>NaN</td>\n",
              "    </tr>\n",
              "    <tr>\n",
              "      <th>7</th>\n",
              "      <td>Arkansas</td>\n",
              "      <td>AR</td>\n",
              "      <td>5</td>\n",
              "      <td>3/11/2020</td>\n",
              "      <td>3/17/2020</td>\n",
              "      <td>0</td>\n",
              "      <td>0</td>\n",
              "      <td>3/13/2020</td>\n",
              "      <td>0</td>\n",
              "      <td>0</td>\n",
              "      <td>0</td>\n",
              "      <td>4/6/2020</td>\n",
              "      <td>5/4/2020</td>\n",
              "      <td>0</td>\n",
              "      <td>7/20/2020</td>\n",
              "      <td>1</td>\n",
              "      <td>1</td>\n",
              "      <td>0</td>\n",
              "      <td>5/11/2020</td>\n",
              "      <td>0</td>\n",
              "      <td>0</td>\n",
              "      <td>1</td>\n",
              "      <td>3/19/2020</td>\n",
              "      <td>3/19/2020</td>\n",
              "      <td>1</td>\n",
              "      <td>3/20/2020</td>\n",
              "      <td>5/11/2020</td>\n",
              "      <td>0</td>\n",
              "      <td>3/20/2020</td>\n",
              "      <td>5/4/2020</td>\n",
              "      <td>3/20/2020</td>\n",
              "      <td>5/18/2020</td>\n",
              "      <td>3/20/2020</td>\n",
              "      <td>5/19/2020</td>\n",
              "      <td>5/6/2020</td>\n",
              "      <td>0</td>\n",
              "      <td>5/18/2020</td>\n",
              "      <td>0</td>\n",
              "      <td>0</td>\n",
              "      <td>0</td>\n",
              "      <td>...</td>\n",
              "      <td>0</td>\n",
              "      <td>0</td>\n",
              "      <td>451</td>\n",
              "      <td>1051</td>\n",
              "      <td>16</td>\n",
              "      <td>33</td>\n",
              "      <td>2835</td>\n",
              "      <td>2</td>\n",
              "      <td>1</td>\n",
              "      <td>0</td>\n",
              "      <td>31200</td>\n",
              "      <td>7000</td>\n",
              "      <td>0.1</td>\n",
              "      <td>6</td>\n",
              "      <td>$223.84</td>\n",
              "      <td>1</td>\n",
              "      <td>0</td>\n",
              "      <td>0</td>\n",
              "      <td>0</td>\n",
              "      <td>0</td>\n",
              "      <td>0</td>\n",
              "      <td>0</td>\n",
              "      <td>0</td>\n",
              "      <td>1</td>\n",
              "      <td>56.67</td>\n",
              "      <td>3013825</td>\n",
              "      <td>53179</td>\n",
              "      <td>2,717</td>\n",
              "      <td>4.5</td>\n",
              "      <td>17.2</td>\n",
              "      <td>43.5</td>\n",
              "      <td>32,336</td>\n",
              "      <td>231.6</td>\n",
              "      <td>0</td>\n",
              "      <td>0</td>\n",
              "      <td>0</td>\n",
              "      <td>0</td>\n",
              "      <td>0</td>\n",
              "      <td>10/27/2020</td>\n",
              "      <td>NaN</td>\n",
              "    </tr>\n",
              "    <tr>\n",
              "      <th>8</th>\n",
              "      <td>California</td>\n",
              "      <td>CA</td>\n",
              "      <td>6</td>\n",
              "      <td>3/4/2020</td>\n",
              "      <td>3/23/2020</td>\n",
              "      <td>0</td>\n",
              "      <td>0</td>\n",
              "      <td>0</td>\n",
              "      <td>3/19/2020</td>\n",
              "      <td>0</td>\n",
              "      <td>0</td>\n",
              "      <td>3/19/2020</td>\n",
              "      <td>5/8/2020</td>\n",
              "      <td>0</td>\n",
              "      <td>6/18/2020</td>\n",
              "      <td>0</td>\n",
              "      <td>0</td>\n",
              "      <td>1</td>\n",
              "      <td>5/5/2020</td>\n",
              "      <td>0</td>\n",
              "      <td>0</td>\n",
              "      <td>1</td>\n",
              "      <td>3/19/2020</td>\n",
              "      <td>3/19/2020</td>\n",
              "      <td>0</td>\n",
              "      <td>3/16/2020</td>\n",
              "      <td>5/18/2020</td>\n",
              "      <td>0</td>\n",
              "      <td>3/19/2020</td>\n",
              "      <td>0</td>\n",
              "      <td>3/19/2020</td>\n",
              "      <td>0</td>\n",
              "      <td>3/16/2020</td>\n",
              "      <td>0</td>\n",
              "      <td>8/28/2020</td>\n",
              "      <td>5/25/2020</td>\n",
              "      <td>5/8/2020</td>\n",
              "      <td>0</td>\n",
              "      <td>0</td>\n",
              "      <td>7/13/2020</td>\n",
              "      <td>...</td>\n",
              "      <td>0</td>\n",
              "      <td>0</td>\n",
              "      <td>450</td>\n",
              "      <td>1050</td>\n",
              "      <td>26</td>\n",
              "      <td>39</td>\n",
              "      <td>1125</td>\n",
              "      <td>2</td>\n",
              "      <td>225</td>\n",
              "      <td>0</td>\n",
              "      <td>6900</td>\n",
              "      <td>7000</td>\n",
              "      <td>1.5</td>\n",
              "      <td>6.2</td>\n",
              "      <td>$282.35</td>\n",
              "      <td>0</td>\n",
              "      <td>0</td>\n",
              "      <td>0</td>\n",
              "      <td>0</td>\n",
              "      <td>0</td>\n",
              "      <td>0</td>\n",
              "      <td>0</td>\n",
              "      <td>1</td>\n",
              "      <td>1</td>\n",
              "      <td>241.65</td>\n",
              "      <td>39557045</td>\n",
              "      <td>163695</td>\n",
              "      <td>151,278</td>\n",
              "      <td>5.5</td>\n",
              "      <td>12.8</td>\n",
              "      <td>33.3</td>\n",
              "      <td>268,818</td>\n",
              "      <td>356.2</td>\n",
              "      <td>0</td>\n",
              "      <td>0</td>\n",
              "      <td>0</td>\n",
              "      <td>1</td>\n",
              "      <td>0</td>\n",
              "      <td>0</td>\n",
              "      <td>NaN</td>\n",
              "    </tr>\n",
              "  </tbody>\n",
              "</table>\n",
              "<p>5 rows × 163 columns</p>\n",
              "</div>"
            ],
            "text/plain": [
              "        STATE POSTCODE FIPS  ... VBMAUTOAP  VBMGENELEC Unnamed: 162\n",
              "4     Alabama       AL    1  ...         0  10/29/2020          NaN\n",
              "5      Alaska       AK    2  ...         2  10/24/2020          NaN\n",
              "6     Arizona       AZ    4  ...         0  10/23/2020          NaN\n",
              "7    Arkansas       AR    5  ...         0  10/27/2020          NaN\n",
              "8  California       CA    6  ...         0           0          NaN\n",
              "\n",
              "[5 rows x 163 columns]"
            ]
          },
          "metadata": {
            "tags": []
          },
          "execution_count": 4
        }
      ]
    },
    {
      "cell_type": "code",
      "metadata": {
        "id": "ODkWdbCpZ2so"
      },
      "source": [
        "#for cols in policyData.columns: #checking column titles\n",
        " # print(cols)"
      ],
      "execution_count": 5,
      "outputs": []
    },
    {
      "cell_type": "code",
      "metadata": {
        "id": "henM3SXU74rZ",
        "colab": {
          "base_uri": "https://localhost:8080/",
          "height": 309
        },
        "outputId": "b9ae5d01-6070-43fa-fda3-a9e39d978876"
      },
      "source": [
        "caseData.head()"
      ],
      "execution_count": 6,
      "outputs": [
        {
          "output_type": "execute_result",
          "data": {
            "text/html": [
              "<div>\n",
              "<style scoped>\n",
              "    .dataframe tbody tr th:only-of-type {\n",
              "        vertical-align: middle;\n",
              "    }\n",
              "\n",
              "    .dataframe tbody tr th {\n",
              "        vertical-align: top;\n",
              "    }\n",
              "\n",
              "    .dataframe thead th {\n",
              "        text-align: right;\n",
              "    }\n",
              "</style>\n",
              "<table border=\"1\" class=\"dataframe\">\n",
              "  <thead>\n",
              "    <tr style=\"text-align: right;\">\n",
              "      <th></th>\n",
              "      <th>date</th>\n",
              "      <th>state</th>\n",
              "      <th>dataQualityGrade</th>\n",
              "      <th>death</th>\n",
              "      <th>deathConfirmed</th>\n",
              "      <th>deathIncrease</th>\n",
              "      <th>deathProbable</th>\n",
              "      <th>hospitalized</th>\n",
              "      <th>hospitalizedCumulative</th>\n",
              "      <th>hospitalizedCurrently</th>\n",
              "      <th>hospitalizedIncrease</th>\n",
              "      <th>inIcuCumulative</th>\n",
              "      <th>inIcuCurrently</th>\n",
              "      <th>negative</th>\n",
              "      <th>negativeIncrease</th>\n",
              "      <th>negativeTestsAntibody</th>\n",
              "      <th>negativeTestsPeopleAntibody</th>\n",
              "      <th>negativeTestsViral</th>\n",
              "      <th>onVentilatorCumulative</th>\n",
              "      <th>onVentilatorCurrently</th>\n",
              "      <th>positive</th>\n",
              "      <th>positiveCasesViral</th>\n",
              "      <th>positiveIncrease</th>\n",
              "      <th>positiveScore</th>\n",
              "      <th>positiveTestsAntibody</th>\n",
              "      <th>positiveTestsAntigen</th>\n",
              "      <th>positiveTestsPeopleAntibody</th>\n",
              "      <th>positiveTestsPeopleAntigen</th>\n",
              "      <th>positiveTestsViral</th>\n",
              "      <th>recovered</th>\n",
              "      <th>totalTestEncountersViral</th>\n",
              "      <th>totalTestEncountersViralIncrease</th>\n",
              "      <th>totalTestResults</th>\n",
              "      <th>totalTestResultsIncrease</th>\n",
              "      <th>totalTestsAntibody</th>\n",
              "      <th>totalTestsAntigen</th>\n",
              "      <th>totalTestsPeopleAntibody</th>\n",
              "      <th>totalTestsPeopleAntigen</th>\n",
              "      <th>totalTestsPeopleViral</th>\n",
              "      <th>totalTestsPeopleViralIncrease</th>\n",
              "      <th>totalTestsViral</th>\n",
              "      <th>totalTestsViralIncrease</th>\n",
              "    </tr>\n",
              "  </thead>\n",
              "  <tbody>\n",
              "    <tr>\n",
              "      <th>0</th>\n",
              "      <td>2020-12-09</td>\n",
              "      <td>AK</td>\n",
              "      <td>A</td>\n",
              "      <td>150.0</td>\n",
              "      <td>150.0</td>\n",
              "      <td>4</td>\n",
              "      <td>NaN</td>\n",
              "      <td>847.0</td>\n",
              "      <td>847.0</td>\n",
              "      <td>165.0</td>\n",
              "      <td>20</td>\n",
              "      <td>NaN</td>\n",
              "      <td>NaN</td>\n",
              "      <td>1062213.0</td>\n",
              "      <td>9993</td>\n",
              "      <td>NaN</td>\n",
              "      <td>NaN</td>\n",
              "      <td>1053252.0</td>\n",
              "      <td>NaN</td>\n",
              "      <td>19.0</td>\n",
              "      <td>37342.0</td>\n",
              "      <td>NaN</td>\n",
              "      <td>584</td>\n",
              "      <td>0</td>\n",
              "      <td>NaN</td>\n",
              "      <td>NaN</td>\n",
              "      <td>NaN</td>\n",
              "      <td>NaN</td>\n",
              "      <td>45071.0</td>\n",
              "      <td>7165.0</td>\n",
              "      <td>NaN</td>\n",
              "      <td>0</td>\n",
              "      <td>1099555.0</td>\n",
              "      <td>10577</td>\n",
              "      <td>NaN</td>\n",
              "      <td>NaN</td>\n",
              "      <td>NaN</td>\n",
              "      <td>NaN</td>\n",
              "      <td>NaN</td>\n",
              "      <td>0</td>\n",
              "      <td>1099555.0</td>\n",
              "      <td>10577</td>\n",
              "    </tr>\n",
              "    <tr>\n",
              "      <th>1</th>\n",
              "      <td>2020-12-09</td>\n",
              "      <td>AL</td>\n",
              "      <td>A</td>\n",
              "      <td>3985.0</td>\n",
              "      <td>3525.0</td>\n",
              "      <td>43</td>\n",
              "      <td>460.0</td>\n",
              "      <td>27618.0</td>\n",
              "      <td>27618.0</td>\n",
              "      <td>2111.0</td>\n",
              "      <td>295</td>\n",
              "      <td>2321.0</td>\n",
              "      <td>NaN</td>\n",
              "      <td>1441625.0</td>\n",
              "      <td>6542</td>\n",
              "      <td>NaN</td>\n",
              "      <td>NaN</td>\n",
              "      <td>NaN</td>\n",
              "      <td>1329.0</td>\n",
              "      <td>NaN</td>\n",
              "      <td>280187.0</td>\n",
              "      <td>231539.0</td>\n",
              "      <td>3522</td>\n",
              "      <td>0</td>\n",
              "      <td>NaN</td>\n",
              "      <td>NaN</td>\n",
              "      <td>NaN</td>\n",
              "      <td>NaN</td>\n",
              "      <td>NaN</td>\n",
              "      <td>174805.0</td>\n",
              "      <td>NaN</td>\n",
              "      <td>0</td>\n",
              "      <td>1673164.0</td>\n",
              "      <td>9074</td>\n",
              "      <td>NaN</td>\n",
              "      <td>NaN</td>\n",
              "      <td>75780.0</td>\n",
              "      <td>NaN</td>\n",
              "      <td>1673164.0</td>\n",
              "      <td>9074</td>\n",
              "      <td>NaN</td>\n",
              "      <td>0</td>\n",
              "    </tr>\n",
              "    <tr>\n",
              "      <th>2</th>\n",
              "      <td>2020-12-09</td>\n",
              "      <td>AR</td>\n",
              "      <td>A+</td>\n",
              "      <td>2786.0</td>\n",
              "      <td>2552.0</td>\n",
              "      <td>34</td>\n",
              "      <td>234.0</td>\n",
              "      <td>9675.0</td>\n",
              "      <td>9675.0</td>\n",
              "      <td>1064.0</td>\n",
              "      <td>98</td>\n",
              "      <td>NaN</td>\n",
              "      <td>375.0</td>\n",
              "      <td>1647665.0</td>\n",
              "      <td>14779</td>\n",
              "      <td>NaN</td>\n",
              "      <td>NaN</td>\n",
              "      <td>1647665.0</td>\n",
              "      <td>1068.0</td>\n",
              "      <td>179.0</td>\n",
              "      <td>176652.0</td>\n",
              "      <td>152369.0</td>\n",
              "      <td>2327</td>\n",
              "      <td>0</td>\n",
              "      <td>NaN</td>\n",
              "      <td>3300.0</td>\n",
              "      <td>NaN</td>\n",
              "      <td>29539.0</td>\n",
              "      <td>NaN</td>\n",
              "      <td>155077.0</td>\n",
              "      <td>NaN</td>\n",
              "      <td>0</td>\n",
              "      <td>1800034.0</td>\n",
              "      <td>16536</td>\n",
              "      <td>NaN</td>\n",
              "      <td>21856.0</td>\n",
              "      <td>NaN</td>\n",
              "      <td>167609.0</td>\n",
              "      <td>NaN</td>\n",
              "      <td>0</td>\n",
              "      <td>1800034.0</td>\n",
              "      <td>16536</td>\n",
              "    </tr>\n",
              "    <tr>\n",
              "      <th>3</th>\n",
              "      <td>2020-12-09</td>\n",
              "      <td>AS</td>\n",
              "      <td>D</td>\n",
              "      <td>0.0</td>\n",
              "      <td>NaN</td>\n",
              "      <td>0</td>\n",
              "      <td>NaN</td>\n",
              "      <td>NaN</td>\n",
              "      <td>NaN</td>\n",
              "      <td>NaN</td>\n",
              "      <td>0</td>\n",
              "      <td>NaN</td>\n",
              "      <td>NaN</td>\n",
              "      <td>2140.0</td>\n",
              "      <td>0</td>\n",
              "      <td>NaN</td>\n",
              "      <td>NaN</td>\n",
              "      <td>NaN</td>\n",
              "      <td>NaN</td>\n",
              "      <td>NaN</td>\n",
              "      <td>0.0</td>\n",
              "      <td>0.0</td>\n",
              "      <td>0</td>\n",
              "      <td>0</td>\n",
              "      <td>NaN</td>\n",
              "      <td>NaN</td>\n",
              "      <td>NaN</td>\n",
              "      <td>NaN</td>\n",
              "      <td>NaN</td>\n",
              "      <td>NaN</td>\n",
              "      <td>NaN</td>\n",
              "      <td>0</td>\n",
              "      <td>2140.0</td>\n",
              "      <td>0</td>\n",
              "      <td>NaN</td>\n",
              "      <td>NaN</td>\n",
              "      <td>NaN</td>\n",
              "      <td>NaN</td>\n",
              "      <td>NaN</td>\n",
              "      <td>0</td>\n",
              "      <td>2140.0</td>\n",
              "      <td>0</td>\n",
              "    </tr>\n",
              "    <tr>\n",
              "      <th>4</th>\n",
              "      <td>2020-12-09</td>\n",
              "      <td>AZ</td>\n",
              "      <td>A+</td>\n",
              "      <td>7081.0</td>\n",
              "      <td>6551.0</td>\n",
              "      <td>108</td>\n",
              "      <td>530.0</td>\n",
              "      <td>28880.0</td>\n",
              "      <td>28880.0</td>\n",
              "      <td>3287.0</td>\n",
              "      <td>355</td>\n",
              "      <td>NaN</td>\n",
              "      <td>766.0</td>\n",
              "      <td>2050231.0</td>\n",
              "      <td>7328</td>\n",
              "      <td>NaN</td>\n",
              "      <td>NaN</td>\n",
              "      <td>NaN</td>\n",
              "      <td>NaN</td>\n",
              "      <td>492.0</td>\n",
              "      <td>382601.0</td>\n",
              "      <td>369149.0</td>\n",
              "      <td>4444</td>\n",
              "      <td>0</td>\n",
              "      <td>NaN</td>\n",
              "      <td>NaN</td>\n",
              "      <td>NaN</td>\n",
              "      <td>NaN</td>\n",
              "      <td>NaN</td>\n",
              "      <td>58366.0</td>\n",
              "      <td>NaN</td>\n",
              "      <td>0</td>\n",
              "      <td>2419380.0</td>\n",
              "      <td>11339</td>\n",
              "      <td>373202.0</td>\n",
              "      <td>NaN</td>\n",
              "      <td>NaN</td>\n",
              "      <td>NaN</td>\n",
              "      <td>2419380.0</td>\n",
              "      <td>11339</td>\n",
              "      <td>4091817.0</td>\n",
              "      <td>4091817</td>\n",
              "    </tr>\n",
              "  </tbody>\n",
              "</table>\n",
              "</div>"
            ],
            "text/plain": [
              "         date state  ... totalTestsViral  totalTestsViralIncrease\n",
              "0  2020-12-09    AK  ...       1099555.0                    10577\n",
              "1  2020-12-09    AL  ...             NaN                        0\n",
              "2  2020-12-09    AR  ...       1800034.0                    16536\n",
              "3  2020-12-09    AS  ...          2140.0                        0\n",
              "4  2020-12-09    AZ  ...       4091817.0                  4091817\n",
              "\n",
              "[5 rows x 42 columns]"
            ]
          },
          "metadata": {
            "tags": []
          },
          "execution_count": 6
        }
      ]
    },
    {
      "cell_type": "code",
      "metadata": {
        "id": "3e9eLgCl795b"
      },
      "source": [
        "caseData['date'] = caseData['date'].astype('datetime64[ns]') #converts date attribute from string type to datetime type to be used for calculations\n",
        "\n",
        "#gather dates of face mask mandates and their respective states\n",
        "dateOfFM = policyData.FM_ALL \n",
        "stateOfFM = policyData.POSTCODE \n",
        "citeYN = policyData.FMCITE\n",
        "fineYN = policyData.FMFINE\n",
        "\n",
        "dateOfFM = pd.to_datetime(dateOfFM, errors = 'coerce') #converts date face mask mandate implemented from string type to datetime type to be used for calculations"
      ],
      "execution_count": 7,
      "outputs": []
    },
    {
      "cell_type": "code",
      "metadata": {
        "id": "lXYx2RB6_r3U",
        "colab": {
          "base_uri": "https://localhost:8080/"
        },
        "outputId": "269b03e5-1c98-4d7c-c15c-493060d6b279"
      },
      "source": [
        "caseData.info() #look at types and verify datetime conversion worked"
      ],
      "execution_count": 8,
      "outputs": [
        {
          "output_type": "stream",
          "text": [
            "<class 'pandas.core.frame.DataFrame'>\n",
            "RangeIndex: 15801 entries, 0 to 15800\n",
            "Data columns (total 42 columns):\n",
            " #   Column                            Non-Null Count  Dtype         \n",
            "---  ------                            --------------  -----         \n",
            " 0   date                              15801 non-null  datetime64[ns]\n",
            " 1   state                             15801 non-null  object        \n",
            " 2   dataQualityGrade                  14540 non-null  object        \n",
            " 3   death                             14975 non-null  float64       \n",
            " 4   deathConfirmed                    6949 non-null   float64       \n",
            " 5   deathIncrease                     15801 non-null  int64         \n",
            " 6   deathProbable                     5185 non-null   float64       \n",
            " 7   hospitalized                      9548 non-null   float64       \n",
            " 8   hospitalizedCumulative            9548 non-null   float64       \n",
            " 9   hospitalizedCurrently             12675 non-null  float64       \n",
            " 10  hospitalizedIncrease              15801 non-null  int64         \n",
            " 11  inIcuCumulative                   2736 non-null   float64       \n",
            " 12  inIcuCurrently                    7839 non-null   float64       \n",
            " 13  negative                          15491 non-null  float64       \n",
            " 14  negativeIncrease                  15801 non-null  int64         \n",
            " 15  negativeTestsAntibody             1013 non-null   float64       \n",
            " 16  negativeTestsPeopleAntibody       780 non-null    float64       \n",
            " 17  negativeTestsViral                3454 non-null   float64       \n",
            " 18  onVentilatorCumulative            941 non-null    float64       \n",
            " 19  onVentilatorCurrently             6307 non-null   float64       \n",
            " 20  positive                          15649 non-null  float64       \n",
            " 21  positiveCasesViral                12270 non-null  float64       \n",
            " 22  positiveIncrease                  15801 non-null  int64         \n",
            " 23  positiveScore                     15801 non-null  int64         \n",
            " 24  positiveTestsAntibody             2254 non-null   float64       \n",
            " 25  positiveTestsAntigen              758 non-null    float64       \n",
            " 26  positiveTestsPeopleAntibody       814 non-null    float64       \n",
            " 27  positiveTestsPeopleAntigen        426 non-null    float64       \n",
            " 28  positiveTestsViral                5325 non-null   float64       \n",
            " 29  recovered                         11255 non-null  float64       \n",
            " 30  totalTestEncountersViral          3717 non-null   float64       \n",
            " 31  totalTestEncountersViralIncrease  15801 non-null  int64         \n",
            " 32  totalTestResults                  15741 non-null  float64       \n",
            " 33  totalTestResultsIncrease          15801 non-null  int64         \n",
            " 34  totalTestsAntibody                3065 non-null   float64       \n",
            " 35  totalTestsAntigen                 1227 non-null   float64       \n",
            " 36  totalTestsPeopleAntibody          1279 non-null   float64       \n",
            " 37  totalTestsPeopleAntigen           559 non-null    float64       \n",
            " 38  totalTestsPeopleViral             6705 non-null   float64       \n",
            " 39  totalTestsPeopleViralIncrease     15801 non-null  int64         \n",
            " 40  totalTestsViral                   10198 non-null  float64       \n",
            " 41  totalTestsViralIncrease           15801 non-null  int64         \n",
            "dtypes: datetime64[ns](1), float64(30), int64(9), object(2)\n",
            "memory usage: 5.1+ MB\n"
          ],
          "name": "stdout"
        }
      ]
    },
    {
      "cell_type": "code",
      "metadata": {
        "id": "cfxyXl-G_vPt",
        "colab": {
          "base_uri": "https://localhost:8080/"
        },
        "outputId": "7d367acb-e8ce-41a2-d223-24e15366a911"
      },
      "source": [
        "#keeping only necessary columns\n",
        "\n",
        "dataUnclean = caseData[['date', 'state', 'positiveIncrease']]\n",
        "#dataFinal = caseData.drop(['dataQualityGrade' , 'death' ,\t'deathConfirmed', \t'deathIncrease' ,\t'deathProbable' ,\t'hospitalized'\t,'hospitalizedCumulative'\t,'hospitalizedCurrently'\t,'hospitalizedIncrease'\t,'inIcuCumulative'\t,'inIcuCurrently'\t,'negative'\t,'negativeIncrease'\t,'negativeTestsAntibody'\t,'negativeTestsPeopleAntibody',\t'negativeTestsViral',\t'onVentilatorCumulative'\t,'onVentilatorCurrently'\t,'positive'\t,'positiveCasesViral', 'positiveScore'\t,'positiveTestsAntibody'\t,'positiveTestsAntigen'\t,'positiveTestsPeopleAntibody'\t,'positiveTestsPeopleAntigen'\t,'positiveTestsViral'\t,'recovered'\t,'totalTestEncountersViral'\t,'totalTestEncountersViralIncrease'\t,'totalTestResults'\t,'totalTestResultsIncrease'\t,'totalTestsAntibody'\t,'totalTestsAntigen'\t,'totalTestsPeopleAntibody',\t'totalTestsPeopleAntigen'\t,'totalTestsPeopleViral'\t,'totalTestsPeopleViralIncrease'\t,'totalTestsViral'\t,'totalTestsViralIncrease'], axis = 1)\n",
        "dataUnclean.info()"
      ],
      "execution_count": 9,
      "outputs": [
        {
          "output_type": "stream",
          "text": [
            "<class 'pandas.core.frame.DataFrame'>\n",
            "RangeIndex: 15801 entries, 0 to 15800\n",
            "Data columns (total 3 columns):\n",
            " #   Column            Non-Null Count  Dtype         \n",
            "---  ------            --------------  -----         \n",
            " 0   date              15801 non-null  datetime64[ns]\n",
            " 1   state             15801 non-null  object        \n",
            " 2   positiveIncrease  15801 non-null  int64         \n",
            "dtypes: datetime64[ns](1), int64(1), object(1)\n",
            "memory usage: 370.5+ KB\n"
          ],
          "name": "stdout"
        }
      ]
    },
    {
      "cell_type": "code",
      "metadata": {
        "id": "V36lHUliG-z_"
      },
      "source": [
        "dataFinal = dataUnclean[~(dataUnclean['positiveIncrease'] <= 0)]  #remove all positive increase data less than 0"
      ],
      "execution_count": 10,
      "outputs": []
    },
    {
      "cell_type": "code",
      "metadata": {
        "colab": {
          "base_uri": "https://localhost:8080/",
          "height": 835
        },
        "id": "Lb3bZ6DU_N1t",
        "outputId": "eadfa9df-dc5a-4bae-9e17-4ed316df3eb5"
      },
      "source": [
        "#question for prof m - how to change legend so no color repeats (use dashed lines, etc.)\n",
        "\n",
        "fig, ax = plt.subplots(figsize=(20,3))\n",
        "\n",
        "casesByState = []\n",
        "\n",
        "stateAbbrev = policyData.POSTCODE\n",
        "\n",
        "for state in stateAbbrev: # for loop for separating case data by state\n",
        "  stateCases = dataFinal.loc[dataFinal['state'] == state] \n",
        "  casesByState.append(stateCases)\n",
        "  #graph of state case increases over time\n",
        "  x = stateCases.date\n",
        "  y = stateCases.positiveIncrease\n",
        "  ax.plot(x, y, label=state)\n",
        "  \n",
        "ax.set_title('Increase in COVID Cases by U.S. State')\n",
        "ax.set_xlabel('Date')\n",
        "ax.set_ylabel('Increase in Positive Cases')\n",
        "ax.legend(loc='upper left', bbox_to_anchor=(1.02, 1), title='State')\n",
        "plt.show()"
      ],
      "execution_count": 11,
      "outputs": [
        {
          "output_type": "display_data",
          "data": {
            "image/png": "[encoded data removed]",
            "text/plain": [
              "<Figure size 1440x216 with 1 Axes>"
            ]
          },
          "metadata": {
            "tags": [],
            "needs_background": "light"
          }
        }
      ]
    },
    {
      "cell_type": "code",
      "metadata": {
        "id": "slFm09DjgrKo"
      },
      "source": [
        "#data needs cleaning, one state has greater than -5000 pos. inc, pretty sure it's NM"
      ],
      "execution_count": 12,
      "outputs": []
    },
    {
      "cell_type": "code",
      "metadata": {
        "colab": {
          "base_uri": "https://localhost:8080/"
        },
        "id": "6rWuHh88sWMu",
        "outputId": "ad92e242-676f-47bb-b6b8-df5e1a68a5c4"
      },
      "source": [
        "FMdf = pd.DataFrame({'FM_ALL':dateOfFM, 'State':stateOfFM}) #making data frame of face mask mandates\n",
        "\n",
        "for col in FMdf.columns: #checking column titles\n",
        "  print(col)\n",
        "\n",
        "FMdf = FMdf.dropna(axis=0) #remove all states with FM_ALL = NaT\n",
        "\n",
        "print(FMdf)"
      ],
      "execution_count": 13,
      "outputs": [
        {
          "output_type": "stream",
          "text": [
            "FM_ALL\n",
            "State\n",
            "       FM_ALL State\n",
            "4  2020-07-16    AL\n",
            "5  2020-04-24    AK\n",
            "7  2020-07-20    AR\n",
            "8  2020-06-18    CA\n",
            "9  2020-07-16    CO\n",
            "10 2020-04-20    CT\n",
            "11 2020-04-28    DE\n",
            "12 2020-04-17    DC\n",
            "15 2020-04-16    HI\n",
            "17 2020-05-01    IL\n",
            "18 2020-07-27    IN\n",
            "20 2020-07-03    KS\n",
            "21 2020-05-11    KY\n",
            "23 2020-05-01    ME\n",
            "24 2020-04-18    MD\n",
            "25 2020-05-06    MA\n",
            "26 2020-04-27    MI\n",
            "27 2020-07-24    MN\n",
            "28 2020-08-05    MS\n",
            "32 2020-06-26    NV\n",
            "34 2020-04-08    NJ\n",
            "35 2020-05-15    NM\n",
            "36 2020-04-17    NY\n",
            "37 2020-06-26    NC\n",
            "39 2020-07-23    OH\n",
            "41 2020-07-01    OR\n",
            "42 2020-07-01    PA\n",
            "43 2020-04-18    RI\n",
            "47 2020-07-03    TX\n",
            "48 2020-04-10    UT\n",
            "49 2020-08-01    VT\n",
            "50 2020-05-29    VA\n",
            "51 2020-06-26    WA\n",
            "52 2020-07-07    WV\n",
            "53 2020-08-01    WI\n"
          ],
          "name": "stdout"
        }
      ]
    },
    {
      "cell_type": "code",
      "metadata": {
        "id": "hdROPFDE8UY1",
        "colab": {
          "base_uri": "https://localhost:8080/",
          "height": 204
        },
        "outputId": "e2ea1b07-200d-42a3-a902-ebbc3aa98162"
      },
      "source": [
        "beforeDate = []\n",
        "afterDateBegin = []\n",
        "afterDateEnd = []\n",
        "\n",
        "for date in FMdf.FM_ALL:  #calculate two week periods before and after mandate implementation\n",
        "  beforeDate.append(date - datetime.timedelta(days=14))\n",
        "  afterDateBegin.append(date + datetime.timedelta(days=14))\n",
        "  afterDateEnd.append(date + datetime.timedelta(days=28))\n",
        "\n",
        "  \n",
        "FMdf['TwoWksBefore'] = beforeDate\n",
        "FMdf['TwoWksAfter'] = afterDateBegin\n",
        "FMdf['FourWksAfter'] = afterDateEnd\n",
        "\n",
        "FMdf.head()  "
      ],
      "execution_count": 14,
      "outputs": [
        {
          "output_type": "execute_result",
          "data": {
            "text/html": [
              "<div>\n",
              "<style scoped>\n",
              "    .dataframe tbody tr th:only-of-type {\n",
              "        vertical-align: middle;\n",
              "    }\n",
              "\n",
              "    .dataframe tbody tr th {\n",
              "        vertical-align: top;\n",
              "    }\n",
              "\n",
              "    .dataframe thead th {\n",
              "        text-align: right;\n",
              "    }\n",
              "</style>\n",
              "<table border=\"1\" class=\"dataframe\">\n",
              "  <thead>\n",
              "    <tr style=\"text-align: right;\">\n",
              "      <th></th>\n",
              "      <th>FM_ALL</th>\n",
              "      <th>State</th>\n",
              "      <th>TwoWksBefore</th>\n",
              "      <th>TwoWksAfter</th>\n",
              "      <th>FourWksAfter</th>\n",
              "    </tr>\n",
              "  </thead>\n",
              "  <tbody>\n",
              "    <tr>\n",
              "      <th>4</th>\n",
              "      <td>2020-07-16</td>\n",
              "      <td>AL</td>\n",
              "      <td>2020-07-02</td>\n",
              "      <td>2020-07-30</td>\n",
              "      <td>2020-08-13</td>\n",
              "    </tr>\n",
              "    <tr>\n",
              "      <th>5</th>\n",
              "      <td>2020-04-24</td>\n",
              "      <td>AK</td>\n",
              "      <td>2020-04-10</td>\n",
              "      <td>2020-05-08</td>\n",
              "      <td>2020-05-22</td>\n",
              "    </tr>\n",
              "    <tr>\n",
              "      <th>7</th>\n",
              "      <td>2020-07-20</td>\n",
              "      <td>AR</td>\n",
              "      <td>2020-07-06</td>\n",
              "      <td>2020-08-03</td>\n",
              "      <td>2020-08-17</td>\n",
              "    </tr>\n",
              "    <tr>\n",
              "      <th>8</th>\n",
              "      <td>2020-06-18</td>\n",
              "      <td>CA</td>\n",
              "      <td>2020-06-04</td>\n",
              "      <td>2020-07-02</td>\n",
              "      <td>2020-07-16</td>\n",
              "    </tr>\n",
              "    <tr>\n",
              "      <th>9</th>\n",
              "      <td>2020-07-16</td>\n",
              "      <td>CO</td>\n",
              "      <td>2020-07-02</td>\n",
              "      <td>2020-07-30</td>\n",
              "      <td>2020-08-13</td>\n",
              "    </tr>\n",
              "  </tbody>\n",
              "</table>\n",
              "</div>"
            ],
            "text/plain": [
              "      FM_ALL State TwoWksBefore TwoWksAfter FourWksAfter\n",
              "4 2020-07-16    AL   2020-07-02  2020-07-30   2020-08-13\n",
              "5 2020-04-24    AK   2020-04-10  2020-05-08   2020-05-22\n",
              "7 2020-07-20    AR   2020-07-06  2020-08-03   2020-08-17\n",
              "8 2020-06-18    CA   2020-06-04  2020-07-02   2020-07-16\n",
              "9 2020-07-16    CO   2020-07-02  2020-07-30   2020-08-13"
            ]
          },
          "metadata": {
            "tags": []
          },
          "execution_count": 14
        }
      ]
    },
    {
      "cell_type": "code",
      "metadata": {
        "id": "r6tViOVlIkX0"
      },
      "source": [
        "avgCasesBefore = []\n",
        "avgCasesAfter = []\n",
        "\n",
        "for i in FMdf.index: #cycle through all states and calculate avg increase over time frame\n",
        "  positiveIncrease = []\n",
        "  state = FMdf['State'][i] # get state at index\n",
        "  data = dataFinal.loc[dataFinal['state'] == state] #get policy data associated with state\n",
        "  \n",
        "  before = data.loc[(data.date>=FMdf['TwoWksBefore'][i]) & (data.date<=FMdf['FM_ALL'][i]),:].positiveIncrease #data from two week period before policy implemented\n",
        "  after = data.loc[(data.date >= FMdf['TwoWksAfter'][i]) & (data.date<=FMdf['FourWksAfter'][i]),:].positiveIncrease #data from two week period after policy implemented\n",
        "  \n",
        "  avgCasesBefore.append(np.mean(before)) #calc averages\n",
        "  avgCasesAfter.append(np.mean(after))\n",
        "\n",
        "FMdf['avgCasesBefore'] = avgCasesBefore #add list of averages to the dataframe\n",
        "FMdf['avgCasesAfter'] = avgCasesAfter"
      ],
      "execution_count": 15,
      "outputs": []
    },
    {
      "cell_type": "code",
      "metadata": {
        "colab": {
          "base_uri": "https://localhost:8080/",
          "height": 204
        },
        "id": "gHngo8mcQw9r",
        "outputId": "b7661369-f29f-42fb-92ba-6aa3e36454c7"
      },
      "source": [
        "FMdf.head()"
      ],
      "execution_count": 16,
      "outputs": [
        {
          "output_type": "execute_result",
          "data": {
            "text/html": [
              "<div>\n",
              "<style scoped>\n",
              "    .dataframe tbody tr th:only-of-type {\n",
              "        vertical-align: middle;\n",
              "    }\n",
              "\n",
              "    .dataframe tbody tr th {\n",
              "        vertical-align: top;\n",
              "    }\n",
              "\n",
              "    .dataframe thead th {\n",
              "        text-align: right;\n",
              "    }\n",
              "</style>\n",
              "<table border=\"1\" class=\"dataframe\">\n",
              "  <thead>\n",
              "    <tr style=\"text-align: right;\">\n",
              "      <th></th>\n",
              "      <th>FM_ALL</th>\n",
              "      <th>State</th>\n",
              "      <th>TwoWksBefore</th>\n",
              "      <th>TwoWksAfter</th>\n",
              "      <th>FourWksAfter</th>\n",
              "      <th>avgCasesBefore</th>\n",
              "      <th>avgCasesAfter</th>\n",
              "    </tr>\n",
              "  </thead>\n",
              "  <tbody>\n",
              "    <tr>\n",
              "      <th>4</th>\n",
              "      <td>2020-07-16</td>\n",
              "      <td>AL</td>\n",
              "      <td>2020-07-02</td>\n",
              "      <td>2020-07-30</td>\n",
              "      <td>2020-08-13</td>\n",
              "      <td>1475.066667</td>\n",
              "      <td>1451.666667</td>\n",
              "    </tr>\n",
              "    <tr>\n",
              "      <th>5</th>\n",
              "      <td>2020-04-24</td>\n",
              "      <td>AK</td>\n",
              "      <td>2020-04-10</td>\n",
              "      <td>2020-05-08</td>\n",
              "      <td>2020-05-22</td>\n",
              "      <td>6.933333</td>\n",
              "      <td>2.461538</td>\n",
              "    </tr>\n",
              "    <tr>\n",
              "      <th>7</th>\n",
              "      <td>2020-07-20</td>\n",
              "      <td>AR</td>\n",
              "      <td>2020-07-06</td>\n",
              "      <td>2020-08-03</td>\n",
              "      <td>2020-08-17</td>\n",
              "      <td>893.166667</td>\n",
              "      <td>792.615385</td>\n",
              "    </tr>\n",
              "    <tr>\n",
              "      <th>8</th>\n",
              "      <td>2020-06-18</td>\n",
              "      <td>CA</td>\n",
              "      <td>2020-06-04</td>\n",
              "      <td>2020-07-02</td>\n",
              "      <td>2020-07-16</td>\n",
              "      <td>2894.133333</td>\n",
              "      <td>8002.600000</td>\n",
              "    </tr>\n",
              "    <tr>\n",
              "      <th>9</th>\n",
              "      <td>2020-07-16</td>\n",
              "      <td>CO</td>\n",
              "      <td>2020-07-02</td>\n",
              "      <td>2020-07-30</td>\n",
              "      <td>2020-08-13</td>\n",
              "      <td>379.800000</td>\n",
              "      <td>428.200000</td>\n",
              "    </tr>\n",
              "  </tbody>\n",
              "</table>\n",
              "</div>"
            ],
            "text/plain": [
              "      FM_ALL State TwoWksBefore  ... FourWksAfter avgCasesBefore  avgCasesAfter\n",
              "4 2020-07-16    AL   2020-07-02  ...   2020-08-13    1475.066667    1451.666667\n",
              "5 2020-04-24    AK   2020-04-10  ...   2020-05-22       6.933333       2.461538\n",
              "7 2020-07-20    AR   2020-07-06  ...   2020-08-17     893.166667     792.615385\n",
              "8 2020-06-18    CA   2020-06-04  ...   2020-07-16    2894.133333    8002.600000\n",
              "9 2020-07-16    CO   2020-07-02  ...   2020-08-13     379.800000     428.200000\n",
              "\n",
              "[5 rows x 7 columns]"
            ]
          },
          "metadata": {
            "tags": []
          },
          "execution_count": 16
        }
      ]
    },
    {
      "cell_type": "code",
      "metadata": {
        "colab": {
          "base_uri": "https://localhost:8080/"
        },
        "id": "OArHo397S2Sq",
        "outputId": "f7f311db-3ac4-44c8-c465-66183bcad217"
      },
      "source": [
        "statesWithPolicies = [FMdf['State'][i] for i in FMdf.index if str(FMdf['FM_ALL'][i]) != 'NaT'] #might use this to eliminate states w/o policy from graph below, still have to implement\n",
        "print(statesWithPolicies)\n",
        "len(statesWithPolicies)"
      ],
      "execution_count": 17,
      "outputs": [
        {
          "output_type": "stream",
          "text": [
            "['AL', 'AK', 'AR', 'CA', 'CO', 'CT', 'DE', 'DC', 'HI', 'IL', 'IN', 'KS', 'KY', 'ME', 'MD', 'MA', 'MI', 'MN', 'MS', 'NV', 'NJ', 'NM', 'NY', 'NC', 'OH', 'OR', 'PA', 'RI', 'TX', 'UT', 'VT', 'VA', 'WA', 'WV', 'WI']\n"
          ],
          "name": "stdout"
        },
        {
          "output_type": "execute_result",
          "data": {
            "text/plain": [
              "35"
            ]
          },
          "metadata": {
            "tags": []
          },
          "execution_count": 17
        }
      ]
    },
    {
      "cell_type": "code",
      "metadata": {
        "colab": {
          "base_uri": "https://localhost:8080/",
          "height": 524
        },
        "id": "1j4Bjai9RCku",
        "outputId": "9d6b9c50-2e59-411b-d93f-e4e4f275357a"
      },
      "source": [
        "#plot data\n",
        "from matplotlib.pyplot import figure\n",
        "\n",
        "width = 0.35  #width of bars\n",
        "\n",
        "fig, ax = plt.subplots()\n",
        "rects1 = ax.bar(FMdf.State, FMdf.avgCasesBefore, width, align= 'center', color='orange', label='Before FM')\n",
        "rects2 = ax.bar(FMdf.State, FMdf.avgCasesAfter, width, align= 'edge', color='blue', label='After FM')\n",
        "ax.set_ylabel('Average Number of New COVID-19 Cases')\n",
        "ax.set_xlabel('State')\n",
        "ax.set_xticklabels(FMdf.State)\n",
        "ax.legend(frameon=False)\n",
        "fig.set_size_inches(17, 8.5, forward=True)"
      ],
      "execution_count": 18,
      "outputs": [
        {
          "output_type": "display_data",
          "data": {
            "image/png": "[encoded data removed]",
            "text/plain": [
              "<Figure size 1224x612 with 1 Axes>"
            ]
          },
          "metadata": {
            "tags": [],
            "needs_background": "light"
          }
        }
      ]
    },
    {
      "cell_type": "markdown",
      "metadata": {
        "id": "b5UIHNFrZr8G"
      },
      "source": [
        "**Things to do:**\n",
        "\n",
        "\n",
        "*   Pick/use statistical test(s)\n",
        "\n",
        "\n",
        "\n",
        "1.   Hypothesis test for two week period around face mask policy implementation - Paired T-Test\n",
        "\n",
        "  *   H0 : policy does not impact average increase in cases(after - before = 0 )\n",
        "  *   H1 : policy decreases average increase in cases (after - before <= 0)\n",
        "\n",
        "2.    Chi-Squared Test/2x2 Table - states with fines x states with criminal charges (FMFINE vs FMCITE) \n",
        "  *   Shows differences in behavior enforcement - is some policy more effective than others?\n",
        "  *   Treat increase or decrease as 0/1\n",
        "  *   Fines vs Not fines - states increase vs decrease\n",
        "  *   Fines vs Citations - states increase vs decrease\n",
        "\n",
        "3.    Linear regression for behavior vs avg increase in number of cases\n",
        "  *   X = 0 for citation, X = 1 for fines\n",
        "  *   Y = average two weeks after\n",
        "\n",
        "**Future Directions:**\n",
        "*   Look at other variables w/ dates\n",
        "    * Bar shutdown, school shutdown, restaurant reopen, religious gatherings limited\n",
        "    * Bar reopen, school reopen, restaurant reopen, religious gatherings reopen\n",
        "*   Look at FM related variables\n",
        "    * FM mandate enforced by fines, FM mandate enforced by criminal charge\n",
        "    *   List of Face Mask Related Attributes\n",
        "    * Mandate face mask use by all individuals in public spaces\t(date)\n",
        "    * Face mask mandate enforced by fines\t(binary)\n",
        "    * Face mask mandate enforced by criminal charge/citation\t(binary)\n",
        "    * No legal enforcement of face mask mandate\tMandate face mask use by employees in public-facing businesses\t(date)\n",
        "    * State ended statewide mask use by individuals in public spaces (date)\t\n",
        "    * Attempt by state government to prevent local governments from implementing face mask orders (date)\n",
        "\n",
        "\n"
      ]
    },
    {
      "cell_type": "code",
      "metadata": {
        "id": "_VlsWUgMh1SK",
        "colab": {
          "base_uri": "https://localhost:8080/"
        },
        "outputId": "238cd1e5-b37d-4c0c-d6c7-38e49c5a3f6e"
      },
      "source": [
        "print(FMdf)"
      ],
      "execution_count": 19,
      "outputs": [
        {
          "output_type": "stream",
          "text": [
            "       FM_ALL State TwoWksBefore  ... FourWksAfter avgCasesBefore  avgCasesAfter\n",
            "4  2020-07-16    AL   2020-07-02  ...   2020-08-13    1475.066667    1451.666667\n",
            "5  2020-04-24    AK   2020-04-10  ...   2020-05-22       6.933333       2.461538\n",
            "7  2020-07-20    AR   2020-07-06  ...   2020-08-17     893.166667     792.615385\n",
            "8  2020-06-18    CA   2020-06-04  ...   2020-07-16    2894.133333    8002.600000\n",
            "9  2020-07-16    CO   2020-07-02  ...   2020-08-13     379.800000     428.200000\n",
            "10 2020-04-20    CT   2020-04-06  ...   2020-05-18    1087.692308     630.642857\n",
            "11 2020-04-28    DE   2020-04-14  ...   2020-05-26     210.714286     166.733333\n",
            "12 2020-04-17    DC   2020-04-03  ...   2020-05-15     121.533333     169.866667\n",
            "15 2020-04-16    HI   2020-04-02  ...   2020-05-14      21.466667       2.230769\n",
            "17 2020-05-01    IL   2020-04-17  ...   2020-05-29    2021.466667    1967.866667\n",
            "18 2020-07-27    IN   2020-07-13  ...   2020-08-24     753.000000     884.266667\n",
            "20 2020-07-03    KS   2020-06-19  ...   2020-07-31     605.428571     982.714286\n",
            "21 2020-05-11    KY   2020-04-27  ...   2020-06-08     195.000000     264.090909\n",
            "23 2020-05-01    ME   2020-04-17  ...   2020-05-29      21.800000      44.066667\n",
            "24 2020-04-18    MD   2020-04-04  ...   2020-05-16     636.666667     966.400000\n",
            "25 2020-05-06    MA   2020-04-22  ...   2020-06-03    1923.800000     911.133333\n",
            "26 2020-04-27    MI   2020-04-13  ...   2020-05-25     869.533333     573.266667\n",
            "27 2020-07-24    MN   2020-07-10  ...   2020-08-21     621.666667     632.866667\n",
            "28 2020-08-05    MS   2020-07-22  ...   2020-09-02    1194.666667     743.866667\n",
            "32 2020-06-26    NV   2020-06-12  ...   2020-07-24     364.066667    1065.400000\n",
            "34 2020-04-08    NJ   2020-03-25  ...   2020-05-06    2917.466667    2633.533333\n",
            "35 2020-05-15    NM   2020-05-01  ...   2020-06-12     150.066667     144.133333\n",
            "36 2020-04-17    NY   2020-04-03  ...   2020-05-15    9150.733333    2762.733333\n",
            "37 2020-06-26    NC   2020-06-12  ...   2020-07-24    1289.133333    1976.400000\n",
            "39 2020-07-23    OH   2020-07-09  ...   2020-08-20    1333.666667    1046.533333\n",
            "41 2020-07-01    OR   2020-06-17  ...   2020-07-29     188.866667     327.733333\n",
            "42 2020-07-01    PA   2020-06-17  ...   2020-07-29     554.214286     903.133333\n",
            "43 2020-04-18    RI   2020-04-04  ...   2020-05-16     269.133333     238.800000\n",
            "47 2020-07-03    TX   2020-06-19  ...   2020-07-31    5578.733333    8552.666667\n",
            "48 2020-04-10    UT   2020-03-27  ...   2020-05-08     113.333333     153.800000\n",
            "49 2020-08-01    VT   2020-07-18  ...   2020-08-29       5.666667       6.666667\n",
            "50 2020-05-29    VA   2020-05-15  ...   2020-06-26     981.333333     528.200000\n",
            "51 2020-06-26    WA   2020-06-12  ...   2020-07-24     469.066667     799.733333\n",
            "52 2020-07-07    WV   2020-06-23  ...   2020-08-04      60.600000     127.266667\n",
            "53 2020-08-01    WI   2020-07-18  ...   2020-08-29     932.666667     736.600000\n",
            "\n",
            "[35 rows x 7 columns]\n"
          ],
          "name": "stdout"
        }
      ]
    },
    {
      "cell_type": "code",
      "metadata": {
        "id": "haK2cKqEoH3X"
      },
      "source": [
        "#Chi Square tests"
      ],
      "execution_count": 20,
      "outputs": []
    },
    {
      "cell_type": "code",
      "metadata": {
        "colab": {
          "base_uri": "https://localhost:8080/"
        },
        "id": "Nu3oSZ03r3Fw",
        "outputId": "5f5e9b1c-e320-4bee-f633-867bf10ae147"
      },
      "source": [
        "#prepare dataframes for rate and citation (0/1) and rate and fine(0/1)\n",
        "rateDifference = []\n",
        "print(FMdf.index)\n",
        "\n",
        "#organize decreases and increases in avg case incidence before and after FM mandate\n",
        "for i in FMdf.index: \n",
        "  before = FMdf['avgCasesBefore'][i] \n",
        "  after = FMdf['avgCasesAfter'][i]\n",
        "  diff = after - before\n",
        "  if diff < 0:\n",
        "    rateDifference.append(1) #mask mandate worked\n",
        "  else:\n",
        "    rateDifference.append(0) #mandate didnt work\n",
        "#print(len(rateDifference))\n",
        "#print(rateDifference)"
      ],
      "execution_count": 21,
      "outputs": [
        {
          "output_type": "stream",
          "text": [
            "Int64Index([ 4,  5,  7,  8,  9, 10, 11, 12, 15, 17, 18, 20, 21, 23, 24, 25, 26,\n",
            "            27, 28, 32, 34, 35, 36, 37, 39, 41, 42, 43, 47, 48, 49, 50, 51, 52,\n",
            "            53],\n",
            "           dtype='int64')\n"
          ],
          "name": "stdout"
        }
      ]
    },
    {
      "cell_type": "code",
      "metadata": {
        "id": "wdAhL35qnNIr"
      },
      "source": [
        "policyDataClean = pd.DataFrame({'FM_ALL':dateOfFM, 'State':stateOfFM, 'FMFINE':fineYN, 'FMCITE':citeYN}) #making data frame for easy cleaning of NaT\n",
        "policyDataClean = policyDataClean.dropna(axis=0) #remove all states w/ FM_ALL = NaT for matching equal column lengths\n",
        "#print(len(policyDataClean))\n",
        "\n",
        "fine = policyDataClean.FMFINE\n",
        "cite = policyDataClean.FMCITE\n",
        "\n",
        "#print(len(fine))\n",
        "#print(len(cite))\n",
        "ratesAndFine= pd.DataFrame({'rate diff':rateDifference, 'fine':fine})\n",
        "ratesAndCite = pd.DataFrame({'rate diff':rateDifference, 'cite':cite})"
      ],
      "execution_count": 22,
      "outputs": []
    },
    {
      "cell_type": "code",
      "metadata": {
        "colab": {
          "base_uri": "https://localhost:8080/"
        },
        "id": "xLh_x8IxZKVi",
        "outputId": "3198ade1-a5b9-428e-de8f-05fe1446937f"
      },
      "source": [
        "# manual 2x2 chi square test for rate vs fine, note: matches function in next cell\n",
        "\n",
        "#define variables\n",
        "DecRYFine = 0 #decrease rate, yes fine\n",
        "IncRYFine = 0 #increase rate, yes fine\n",
        "DecRNFine = 0 #decrease rate, no fine\n",
        "IncRNFine = 0 #increase rate, no fine\n",
        "\n",
        "#count number observations in each 2x2 variable\n",
        "for i in ratesAndFine.index:\n",
        "\n",
        "  R = ratesAndFine['rate diff'][i] \n",
        "  F = ratesAndFine['fine'][i] \n",
        "\n",
        "  if R == 1 and F == \"1\":\n",
        "    DecRYFine += 1\n",
        "  if R == 0 and F == \"1\":\n",
        "    IncRYFine += 1\n",
        "  if R == 1 and F == \"0\":\n",
        "    DecRNFine += 1\n",
        "  if R == 0 and F == \"0\":\n",
        "    IncRNFine += 1\n",
        "\n",
        "#print(DecRYFine)\n",
        "#print(IncRYFine)\n",
        "#print(DecRNFine)\n",
        "#print(IncRNFine)\n",
        "\n",
        "#sum of var\n",
        "allI = IncRYFine + IncRNFine #all observed increases in rate\n",
        "allD = DecRYFine + DecRNFine #all observed decreases in rate\n",
        "allY = DecRYFine + IncRYFine #all observed yes fines\n",
        "allN = DecRNFine + IncRNFine #all observed no fines\n",
        "all = len(ratesAndFine) #all observed\n",
        "#print(all)\n",
        "\n",
        "#probs\n",
        "probI = allI / all\n",
        "probD = allD / all\n",
        "probY = allY / all\n",
        "probN = allN / all\n",
        "\n",
        "#expected values\n",
        "ExDecRYFine = probD * probY *all\n",
        "ExIncRYFine = probI * probY *all\n",
        "ExDecRNFine = probD * probN *all\n",
        "ExIncRNFine = probI * probN *all\n",
        "\n",
        "print(DecRYFine)\n",
        "print(ExDecRYFine)\n",
        "\n",
        "#Goodness of fit\n",
        "gFitDecRYFine = (DecRYFine - ExDecRYFine)**2 / ExDecRYFine\n",
        "gFitIncRYFine = (IncRYFine - ExIncRYFine)**2 / ExIncRYFine\n",
        "gFitDecRNFine = (DecRNFine - ExDecRNFine)**2 / ExDecRNFine\n",
        "gFitIncRNFine = (IncRNFine - ExIncRNFine)**2 / ExIncRNFine\n",
        "\n",
        "#calc chi square test stat\n",
        "chiTestStat = gFitDecRYFine + gFitIncRYFine + gFitDecRNFine + gFitIncRNFine\n",
        "print(chiTestStat)"
      ],
      "execution_count": 23,
      "outputs": [
        {
          "output_type": "stream",
          "text": [
            "9\n",
            "7.285714285714286\n",
            "1.372549019607843\n"
          ],
          "name": "stdout"
        }
      ]
    },
    {
      "cell_type": "code",
      "metadata": {
        "colab": {
          "base_uri": "https://localhost:8080/"
        },
        "id": "EWLwRdo-mWn0",
        "outputId": "031ae5cc-932b-4af6-df28-a4318162f6d7"
      },
      "source": [
        "# Crosstab function for chi square 2x2 rate vs fine\n",
        "\n",
        "O1 = pd.crosstab(index=ratesAndFine[\"rate diff\"]       # the rows (index)\n",
        "                ,columns=ratesAndFine[\"fine\"]) # the columns (columns) #build 2x2 table for rate increase(0)/decrease(1) and fine (0/1)\n",
        "print(O1)\n",
        "\n",
        "from scipy.stats import chi2_contingency\n",
        "testStat, pvalue,df,E = scipy.stats.chi2_contingency(O1)\n",
        "print(\"Chisqares test statistic (w/ Yates' correction)= {:.2f}\".format(testStat)) #print chi square test stat w/ Yates' correction\n",
        "print(\"Pvalue = {:.3f}\".format(pvalue)) #print correspond p value"
      ],
      "execution_count": 24,
      "outputs": [
        {
          "output_type": "stream",
          "text": [
            "fine        0  1\n",
            "rate diff       \n",
            "0          12  6\n",
            "1           8  9\n",
            "Chisqares test statistic (w/ Yates' correction)= 0.69\n",
            "Pvalue = 0.407\n"
          ],
          "name": "stdout"
        }
      ]
    },
    {
      "cell_type": "markdown",
      "metadata": {
        "id": "z-i97wTuwbY6"
      },
      "source": [
        "Pvalue > .05, therefore, no significant difference"
      ]
    },
    {
      "cell_type": "code",
      "metadata": {
        "colab": {
          "base_uri": "https://localhost:8080/"
        },
        "id": "X4FJOK9afnvF",
        "outputId": "e7dea6a9-c88a-4f8d-e05c-8dd3a4cd49ef"
      },
      "source": [
        "# manual 2x2 chi square test for rate vs citation, note: matches function in next cell\n",
        "\n",
        "#define variables\n",
        "DecRYCite = 0 #decrease rate, yes cite\n",
        "IncRYCite = 0 #increase rate, yes cite\n",
        "DecRNCite = 0 #decrease rate, no cite\n",
        "IncRNCite = 0 #increase rate, no cite\n",
        "\n",
        "#count number observations in each 2x2 variable\n",
        "for i in ratesAndCite.index:\n",
        "\n",
        "  R = ratesAndCite['rate diff'][i] \n",
        "  C = ratesAndCite['cite'][i] \n",
        "\n",
        "  if R == 1 and C == \"1\":\n",
        "    DecRYCite += 1\n",
        "  if R == 0 and C == \"1\":\n",
        "    IncRYCite += 1\n",
        "  if R == 1 and C == \"0\":\n",
        "    DecRNCite += 1\n",
        "  if R == 0 and C == \"0\":\n",
        "    IncRNCite += 1\n",
        "\n",
        "#sum of var \n",
        "allI2 = IncRYCite + IncRNCite\n",
        "allD2 = DecRYCite + DecRNCite\n",
        "allC = DecRYCite + IncRYCite\n",
        "allN2 = DecRNCite + IncRNCite\n",
        "all2 = len(ratesAndCite)\n",
        "\n",
        "#probabilities\n",
        "probI2 = allI2 / all2\n",
        "probD2 = allD2 / all2\n",
        "probC = allC / all2\n",
        "probN2 = allN2 / all2\n",
        "\n",
        "#expected values\n",
        "ExDecRYCite = probD2 * probC *all2\n",
        "ExIncRYCite = probI2 * probC *all2\n",
        "ExDecRNCite = probD2 * probN2 *all2\n",
        "ExIncRNCite = probI2 * probN2 *all2\n",
        "\n",
        "#Goodness of fit\n",
        "gFitDecRYCite = (DecRYCite - ExDecRYCite)**2 / ExDecRYCite\n",
        "gFitIncRYCite = (IncRYCite - ExIncRYCite)**2 / ExIncRYCite\n",
        "gFitDecRNCite = (DecRNCite - ExDecRNCite)**2 / ExDecRNCite\n",
        "gFitIncRNCite = (IncRNCite - ExIncRNCite)**2 / ExIncRNCite\n",
        "\n",
        "#calc chi square test stat\n",
        "chiTestStat2 = gFitDecRYCite + gFitIncRYCite + gFitDecRNCite + gFitIncRNCite\n",
        "print(chiTestStat2)"
      ],
      "execution_count": 25,
      "outputs": [
        {
          "output_type": "stream",
          "text": [
            "1.4574668251138836\n"
          ],
          "name": "stdout"
        }
      ]
    },
    {
      "cell_type": "code",
      "metadata": {
        "colab": {
          "base_uri": "https://localhost:8080/"
        },
        "id": "91ID3OMn4CZY",
        "outputId": "27e676b4-b3a0-4600-efeb-41c6ef5fb540"
      },
      "source": [
        "# Crosstab function for chi square 2x2 rate vs citation\n",
        "\n",
        "O2 = pd.crosstab(index=ratesAndCite[\"rate diff\"]  \n",
        "                ,columns=ratesAndCite[\"cite\"]) #build 2x2 table for rate increase(0)/decrease(1) and citation (0/1)\n",
        "print(O2) \n",
        "\n",
        "testStat, pvalue,df,E = scipy.stats.chi2_contingency(O2)\n",
        "print(\"Chisqares test statistic (w/ Yates' correction)= {:.2f}\".format(testStat)) #print chi square test stat w/ Yates' correction\n",
        "print(\"Pvalue = {:.3f}\".format(pvalue)) #print correspond p value"
      ],
      "execution_count": 26,
      "outputs": [
        {
          "output_type": "stream",
          "text": [
            "cite        0  1\n",
            "rate diff       \n",
            "0          14  4\n",
            "1          10  7\n",
            "Chisqares test statistic (w/ Yates' correction)= 0.71\n",
            "Pvalue = 0.399\n"
          ],
          "name": "stdout"
        }
      ]
    },
    {
      "cell_type": "markdown",
      "metadata": {
        "id": "IM_1pBv7wj4U"
      },
      "source": [
        "Pvalue > .05, therefore, no significant difference"
      ]
    },
    {
      "cell_type": "markdown",
      "metadata": {
        "id": "KvK0I-xiwkoX"
      },
      "source": [
        "Pvalue,citation > Pvalue,fine, therefore, there is a more significant relationship between the presence of a citation and case incidence decreasing"
      ]
    },
    {
      "cell_type": "code",
      "metadata": {
        "id": "S0IP3E1w4gE0"
      },
      "source": [
        "# paired t-test"
      ],
      "execution_count": 27,
      "outputs": []
    },
    {
      "cell_type": "code",
      "metadata": {
        "id": "IzrjlMkhrDau"
      },
      "source": [
        "#H0 : policy does not impact average increase in cases(after - before = 0 )\n",
        "#HA : policy decreases average increase in cases (after - before <= 0)\n",
        "\n",
        "# p-value = .05"
      ],
      "execution_count": 28,
      "outputs": []
    },
    {
      "cell_type": "code",
      "metadata": {
        "id": "2swZ7AJWs3WU"
      },
      "source": [
        "changeCaseIncidence = [] #list of case incidence differences before and after face mask mandate\n",
        "\n",
        "for i in FMdf.index: \n",
        "  before = FMdf['avgCasesBefore'][i] \n",
        "  after = FMdf['avgCasesAfter'][i]\n",
        "  diff = after - before\n",
        "  changeCaseIncidence.append(diff)\n",
        "\n",
        "meanChangeCaseIncidence = np.mean(changeCaseIncidence) #average difference of case incidence\n",
        "stDChangeCaseIncidence = np.std(changeCaseIncidence) #stD of case incidence\n",
        "\n",
        "df = len(changeCaseIncidence) - 1 #degrees of freedome"
      ],
      "execution_count": 29,
      "outputs": []
    },
    {
      "cell_type": "code",
      "metadata": {
        "colab": {
          "base_uri": "https://localhost:8080/"
        },
        "id": "n_wF-l3it7yZ",
        "outputId": "2c391c2e-7df6-493c-ae0f-4a2cac526b30"
      },
      "source": [
        "t = np.sqrt(len(changeCaseIncidence))*(meanChangeCaseIncidence - 0) / stDChangeCaseIncidence #calculate test statistic\n",
        "print(\"T-test = {:.2f}\".format(t))\n",
        "\n",
        "pvalue = 2*(1-scipy.stats.t(len(changeCaseIncidence)-1,0,1).cdf(t)) #calculate p-value from test statistic\n",
        "print(\"pvalue = {:.2f}\".format(pvalue))"
      ],
      "execution_count": 30,
      "outputs": [
        {
          "output_type": "stream",
          "text": [
            "T-test = 0.15\n",
            "pvalue = 0.88\n"
          ],
          "name": "stdout"
        }
      ]
    },
    {
      "cell_type": "markdown",
      "metadata": {
        "id": "1g58XYU8wQnE"
      },
      "source": [
        "pvalue > .05, therefore, H0 is not rejected"
      ]
    },
    {
      "cell_type": "code",
      "metadata": {
        "id": "bir0qH94uWRO"
      },
      "source": [
        "# Linear Regression"
      ],
      "execution_count": 31,
      "outputs": []
    },
    {
      "cell_type": "code",
      "metadata": {
        "id": "RP9gLsKywNjm"
      },
      "source": [
        "#print(policyDataClean) "
      ],
      "execution_count": 32,
      "outputs": []
    },
    {
      "cell_type": "code",
      "metadata": {
        "colab": {
          "base_uri": "https://localhost:8080/"
        },
        "id": "TUV-yT4oJbNZ",
        "outputId": "eca39a6a-151b-4834-db0b-73d719343e2a"
      },
      "source": [
        "policyDataClean['avgChangeIncidence'] = changeCaseIncidence #add case incidence column to clean policy data set for regression\n",
        "#print(policyDataClean)\n",
        "policyDataClean.info()"
      ],
      "execution_count": 33,
      "outputs": [
        {
          "output_type": "stream",
          "text": [
            "<class 'pandas.core.frame.DataFrame'>\n",
            "Int64Index: 35 entries, 4 to 53\n",
            "Data columns (total 5 columns):\n",
            " #   Column              Non-Null Count  Dtype         \n",
            "---  ------              --------------  -----         \n",
            " 0   FM_ALL              35 non-null     datetime64[ns]\n",
            " 1   State               35 non-null     object        \n",
            " 2   FMFINE              35 non-null     object        \n",
            " 3   FMCITE              35 non-null     object        \n",
            " 4   avgChangeIncidence  35 non-null     float64       \n",
            "dtypes: datetime64[ns](1), float64(1), object(3)\n",
            "memory usage: 2.9+ KB\n"
          ],
          "name": "stdout"
        }
      ]
    },
    {
      "cell_type": "code",
      "metadata": {
        "id": "1jDWqrR7LKQe"
      },
      "source": [
        "policyDataClean['FMFINE'] = policyDataClean['FMFINE'].astype('float64') #converts date attribute from object to float64 type to be used for regression\n",
        "policyDataClean['FMCITE'] = policyDataClean['FMCITE'].astype('float64') #converts date attribute from object to float64 type to be used for regression"
      ],
      "execution_count": 34,
      "outputs": []
    },
    {
      "cell_type": "code",
      "metadata": {
        "colab": {
          "base_uri": "https://localhost:8080/"
        },
        "id": "NHPDvBWGLzMO",
        "outputId": "3c076875-2800-4676-fb92-e51527e24c6d"
      },
      "source": [
        "policyDataClean.info()"
      ],
      "execution_count": 35,
      "outputs": [
        {
          "output_type": "stream",
          "text": [
            "<class 'pandas.core.frame.DataFrame'>\n",
            "Int64Index: 35 entries, 4 to 53\n",
            "Data columns (total 5 columns):\n",
            " #   Column              Non-Null Count  Dtype         \n",
            "---  ------              --------------  -----         \n",
            " 0   FM_ALL              35 non-null     datetime64[ns]\n",
            " 1   State               35 non-null     object        \n",
            " 2   FMFINE              35 non-null     float64       \n",
            " 3   FMCITE              35 non-null     float64       \n",
            " 4   avgChangeIncidence  35 non-null     float64       \n",
            "dtypes: datetime64[ns](1), float64(3), object(1)\n",
            "memory usage: 2.9+ KB\n"
          ],
          "name": "stdout"
        }
      ]
    },
    {
      "cell_type": "code",
      "metadata": {
        "colab": {
          "base_uri": "https://localhost:8080/",
          "height": 456
        },
        "id": "1koQeJvv8_Og",
        "outputId": "5862fedc-7c42-4daa-f205-bfc54576b143"
      },
      "source": [
        "#work left to do: find equation of lin regression line?\n",
        "# I don't think you can find the equation since we used seaborn for plotting (at least that's what the internet says?)\n",
        "\n",
        "plt.style.use(\"fivethirtyeight\")\n",
        "fig,axs = plt.subplots(1,2)\n",
        "\n",
        "ax = axs[0]\n",
        "sns.scatterplot(x = \"FMFINE\",\n",
        "                y = \"avgChangeIncidence\", \n",
        "                data = policyDataClean,\n",
        "                ax=ax)\n",
        "ax.set_xlabel(\"Fine\", fontsize=12)\n",
        "#ax.set_xticks(ax.get_xticks()[::4])\n",
        "ax.set_ylabel(\"Avg Change in Case Incidence After Mandate\",fontsize=12)\n",
        "\n",
        "ax=axs[1]\n",
        "sns.regplot(x = \"FMFINE\",\n",
        "            y = \"avgChangeIncidence\", \n",
        "            data = policyDataClean, \n",
        "            line_kws={\"lw\":2},\n",
        "            \n",
        "            )\n",
        "ax.set_xlabel(\"Fine\", fontsize=12)\n",
        "\n",
        "ax.set_xticks(ax.get_xticks()[::4])\n",
        "ax.set_ylabel(\"Avg Change Case Incidence After Mandate\", fontsize=12)\n",
        "ax.legend()\n",
        "\n",
        "fig.suptitle(\"Case Incidence vs Fask Mask Fines: Linear Regression\")\n",
        "fig.set_tight_layout(True)\n",
        "fig.set_size_inches(12,6)"
      ],
      "execution_count": 81,
      "outputs": [
        {
          "output_type": "stream",
          "text": [
            "No handles with labels found to put in legend.\n"
          ],
          "name": "stderr"
        },
        {
          "output_type": "display_data",
          "data": {
            "image/png": "[encoded data removed]",
            "text/plain": [
              "<Figure size 864x432 with 2 Axes>"
            ]
          },
          "metadata": {
            "tags": []
          }
        }
      ]
    },
    {
      "cell_type": "code",
      "metadata": {
        "colab": {
          "base_uri": "https://localhost:8080/",
          "height": 439
        },
        "id": "4452fe6jFlJK",
        "outputId": "7822ef39-b41a-4f5b-d4c4-2842c817c7ad"
      },
      "source": [
        "#ditto plot above\n",
        "plt.style.use(\"fivethirtyeight\")\n",
        "fig,axs = plt.subplots(1,2)\n",
        "\n",
        "ax = axs[0]\n",
        "sns.scatterplot(x = \"FMCITE\",\n",
        "                y = \"avgChangeIncidence\", \n",
        "                data = policyDataClean,\n",
        "                ax=ax)\n",
        "ax.set_xlabel(\"Fine\", fontsize=12)\n",
        "#ax.set_xticks(ax.get_xticks()[::4])\n",
        "ax.set_ylabel(\"Avg Change in Case Incidence After Mandate\",fontsize=12)\n",
        "\n",
        "ax=axs[1]\n",
        "sns.regplot(x = \"FMCITE\",\n",
        "            y = \"avgChangeIncidence\", \n",
        "            data = policyDataClean, \n",
        "            line_kws={\"lw\":2},\n",
        "            )\n",
        "ax.set_xlabel(\"Citation\", fontsize=12)\n",
        "\n",
        "ax.set_xticks(ax.get_xticks()[::4])\n",
        "ax.set_ylabel(\"Avg Change Case Incidence After Mandate\", fontsize=12)\n",
        "\n",
        "fig.suptitle(\"Case Incidence vs Fask Mask Citations: Linear Regression\")\n",
        "fig.set_tight_layout(True)\n",
        "fig.set_size_inches(12,6)"
      ],
      "execution_count": 63,
      "outputs": [
        {
          "output_type": "display_data",
          "data": {
            "image/png": "[encoded data removed]",
            "text/plain": [
              "<Figure size 864x432 with 2 Axes>"
            ]
          },
          "metadata": {
            "tags": []
          }
        }
      ]
    },
    {
      "cell_type": "code",
      "metadata": {
        "id": "NF8-u8DoF3Ty",
        "colab": {
          "base_uri": "https://localhost:8080/"
        },
        "outputId": "1f261bda-abd0-435e-eb26-b5993717755d"
      },
      "source": [
        "#ditto plot above\r\n",
        "bothPolicies = []\r\n",
        "\r\n",
        "for i in policyDataClean.index:\r\n",
        "  if ((policyDataClean['FMCITE'][i] == 1) & (policyDataClean['FMFINE'][i] == 1)):\r\n",
        "    bothPolicies.append(1)\r\n",
        "  else:\r\n",
        "    bothPolicies.append(0)\r\n",
        "\r\n",
        "policyDataClean['bothPolicies'] = bothPolicies\r\n",
        "policyDataClean.info()"
      ],
      "execution_count": 68,
      "outputs": [
        {
          "output_type": "stream",
          "text": [
            "<class 'pandas.core.frame.DataFrame'>\n",
            "Int64Index: 35 entries, 4 to 53\n",
            "Data columns (total 6 columns):\n",
            " #   Column              Non-Null Count  Dtype         \n",
            "---  ------              --------------  -----         \n",
            " 0   FM_ALL              35 non-null     datetime64[ns]\n",
            " 1   State               35 non-null     object        \n",
            " 2   FMFINE              35 non-null     float64       \n",
            " 3   FMCITE              35 non-null     float64       \n",
            " 4   avgChangeIncidence  35 non-null     float64       \n",
            " 5   bothPolicies        35 non-null     int64         \n",
            "dtypes: datetime64[ns](1), float64(3), int64(1), object(1)\n",
            "memory usage: 3.2+ KB\n"
          ],
          "name": "stdout"
        }
      ]
    },
    {
      "cell_type": "code",
      "metadata": {
        "colab": {
          "base_uri": "https://localhost:8080/",
          "height": 439
        },
        "id": "J_UCoIKtsVPJ",
        "outputId": "2797569f-7ed5-4b47-d79e-d1679c22f39d"
      },
      "source": [
        "plt.style.use(\"fivethirtyeight\")\r\n",
        "fig,axs = plt.subplots(1,2)\r\n",
        "\r\n",
        "ax = axs[0]\r\n",
        "sns.scatterplot(x = \"bothPolicies\",\r\n",
        "                y = \"avgChangeIncidence\", \r\n",
        "                data = policyDataClean,\r\n",
        "                ax=ax)\r\n",
        "ax.set_xlabel(\"Fine\", fontsize=12)\r\n",
        "#ax.set_xticks(ax.get_xticks()[::4])\r\n",
        "ax.set_ylabel(\"Avg Change in Case Incidence After Mandate\",fontsize=12)\r\n",
        "\r\n",
        "ax=axs[1]\r\n",
        "sns.regplot(x = \"bothPolicies\",\r\n",
        "            y = \"avgChangeIncidence\", \r\n",
        "            data = policyDataClean, \r\n",
        "            line_kws={\"lw\":2},\r\n",
        "            )\r\n",
        "ax.set_xlabel(\"Citation\", fontsize=12)\r\n",
        "\r\n",
        "ax.set_xticks(ax.get_xticks()[::4])\r\n",
        "ax.set_ylabel(\"Avg Change Case Incidence After Mandate\", fontsize=12)\r\n",
        "\r\n",
        "fig.suptitle(\"Case Incidence vs Fask Mask Citations & Fines: Linear Regression\")\r\n",
        "fig.set_tight_layout(True)\r\n",
        "fig.set_size_inches(12,6)"
      ],
      "execution_count": 83,
      "outputs": [
        {
          "output_type": "display_data",
          "data": {
            "image/png": "[encoded data removed]",
            "text/plain": [
              "<Figure size 864x432 with 2 Axes>"
            ]
          },
          "metadata": {
            "tags": []
          }
        }
      ]
    },
    {
      "cell_type": "code",
      "metadata": {
        "id": "8bA8wfMtuCDt"
      },
      "source": [
        ""
      ],
      "execution_count": null,
      "outputs": []
    }
  ]
}